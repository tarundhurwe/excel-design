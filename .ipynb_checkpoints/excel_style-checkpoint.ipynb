{
 "cells": [
  {
   "cell_type": "code",
   "execution_count": 89,
   "id": "6a30a436-a7e4-4989-9cd0-6d6ec4d9836f",
   "metadata": {},
   "outputs": [
    {
     "name": "stdout",
     "output_type": "stream",
     "text": [
      "Collecting pandas\n",
      "  Using cached pandas-2.2.1-cp310-cp310-manylinux_2_17_x86_64.manylinux2014_x86_64.whl.metadata (19 kB)\n",
      "Collecting numpy<2,>=1.22.4 (from pandas)\n",
      "  Using cached numpy-1.26.4-cp310-cp310-manylinux_2_17_x86_64.manylinux2014_x86_64.whl.metadata (61 kB)\n",
      "Requirement already satisfied: python-dateutil>=2.8.2 in /media/carnage/40A41746A4173E3A/Django projects/venv/lib/python3.10/site-packages (from pandas) (2.9.0.post0)\n",
      "Requirement already satisfied: pytz>=2020.1 in /media/carnage/40A41746A4173E3A/Django projects/venv/lib/python3.10/site-packages (from pandas) (2024.1)\n",
      "Collecting tzdata>=2022.7 (from pandas)\n",
      "  Using cached tzdata-2024.1-py2.py3-none-any.whl.metadata (1.4 kB)\n",
      "Requirement already satisfied: six>=1.5 in /media/carnage/40A41746A4173E3A/Django projects/venv/lib/python3.10/site-packages (from python-dateutil>=2.8.2->pandas) (1.16.0)\n",
      "Using cached pandas-2.2.1-cp310-cp310-manylinux_2_17_x86_64.manylinux2014_x86_64.whl (13.0 MB)\n",
      "Using cached numpy-1.26.4-cp310-cp310-manylinux_2_17_x86_64.manylinux2014_x86_64.whl (18.2 MB)\n",
      "Using cached tzdata-2024.1-py2.py3-none-any.whl (345 kB)\n",
      "Installing collected packages: tzdata, numpy, pandas\n",
      "Successfully installed numpy-1.26.4 pandas-2.2.1 tzdata-2024.1\n",
      "\n",
      "\u001b[1m[\u001b[0m\u001b[34;49mnotice\u001b[0m\u001b[1;39;49m]\u001b[0m\u001b[39;49m A new release of pip is available: \u001b[0m\u001b[31;49m23.3.2\u001b[0m\u001b[39;49m -> \u001b[0m\u001b[32;49m24.0\u001b[0m\n",
      "\u001b[1m[\u001b[0m\u001b[34;49mnotice\u001b[0m\u001b[1;39;49m]\u001b[0m\u001b[39;49m To update, run: \u001b[0m\u001b[32;49mpip install --upgrade pip\u001b[0m\n"
     ]
    }
   ],
   "source": [
    "!pip install pandas"
   ]
  },
  {
   "cell_type": "code",
   "execution_count": 90,
   "id": "0a23b0cd-526b-42fc-97c0-c7da98186576",
   "metadata": {},
   "outputs": [],
   "source": [
    "import openpyxl as op\n",
    "from openpyxl import load_workbook\n",
    "from openpyxl.styles import PatternFill, Border, Side, Alignment, Font\n",
    "from openpyxl.worksheet.dimensions import RowDimension \n",
    "import pandas as pd"
   ]
  },
  {
   "cell_type": "code",
   "execution_count": 91,
   "id": "d57485a1-23a5-4158-89bd-6f8d3002c1d7",
   "metadata": {},
   "outputs": [
    {
     "data": {
      "text/plain": [
       "(50, 8)"
      ]
     },
     "execution_count": 91,
     "metadata": {},
     "output_type": "execute_result"
    }
   ],
   "source": [
    "workbook = load_workbook(\"./file_example_XLSX_50-Copy1.xlsx\")\n",
    "df = pd.read_excel(\"./file_example_XLSX_50-Copy1.xlsx\")\n",
    "df.shape"
   ]
  },
  {
   "cell_type": "code",
   "execution_count": 82,
   "id": "0a34e95d-81e8-48fa-9f1c-e5b8114fd11e",
   "metadata": {},
   "outputs": [
    {
     "data": {
      "text/plain": [
       "<openpyxl.workbook.workbook.Workbook at 0x7ac5443d1060>"
      ]
     },
     "execution_count": 82,
     "metadata": {},
     "output_type": "execute_result"
    }
   ],
   "source": [
    "workbook"
   ]
  },
  {
   "cell_type": "code",
   "execution_count": 83,
   "id": "e7ac1f76-27a7-4869-9618-2d7d06399302",
   "metadata": {},
   "outputs": [],
   "source": [
    "def get_worksheets(workbook):\n",
    "    worksheet = []\n",
    "    for sheet in workbook.worksheets:\n",
    "        worksheet.append(sheet)\n",
    "    return worksheet\n",
    "worksheets = get_worksheets(workbook)"
   ]
  },
  {
   "cell_type": "code",
   "execution_count": 84,
   "id": "02c4f0d6-c9e6-4524-bf6b-5e17d4d541e9",
   "metadata": {},
   "outputs": [
    {
     "data": {
      "text/plain": [
       "[<Worksheet \"Sheet1\">]"
      ]
     },
     "execution_count": 84,
     "metadata": {},
     "output_type": "execute_result"
    }
   ],
   "source": [
    "worksheets"
   ]
  },
  {
   "cell_type": "code",
   "execution_count": 85,
   "id": "697bfef2-3a1e-49ff-9896-ee3bfbd73d9e",
   "metadata": {},
   "outputs": [],
   "source": [
    "sheet = worksheets[0]"
   ]
  },
  {
   "cell_type": "code",
   "execution_count": 86,
   "id": "afec9a53-d011-41da-a169-7cbc25a18668",
   "metadata": {},
   "outputs": [
    {
     "data": {
      "text/plain": [
       "<Worksheet \"Sheet1\">"
      ]
     },
     "execution_count": 86,
     "metadata": {},
     "output_type": "execute_result"
    }
   ],
   "source": [
    "sheet"
   ]
  },
  {
   "cell_type": "code",
   "execution_count": 87,
   "id": "6a0b121a-cb7a-48a8-a2b6-87151fbb7e51",
   "metadata": {},
   "outputs": [],
   "source": [
    "blue = \"0077B6\"\n",
    "black = \"000000\"\n",
    "thin = Side(border_style=\"thin\", color=black)\n",
    "for row in sheet.iter_rows(min_row=0, max_row=1, min_col=1, max_col=8):\n",
    "    for cell in row:\n",
    "        cell.fill = PatternFill(start_color=blue, end_color=blue, fill_type=\"solid\")\n",
    "        cell.border = Border(top=thin, left=thin, right=thin, bottom=thin)\n",
    "        cell.alignment = Alignment(horizontal=\"center\", vertical=\"center\")\n",
    "        cell.font = Font(name=\"Arial\", size=14, color=\"FFFFFF\", bold=True)\n",
    "\n",
    "for col in sheet.columns:\n",
    "    max_length = 0\n",
    "    column_letter = col[0].column_letter\n",
    "    count = 0\n",
    "    for cell in col:\n",
    "        cell.alignment = Alignment(horizontal=\"center\", vertical=\"center\", wrap_text=True)\n",
    "        try:\n",
    "            if len(str(cell.value)) > max_length:\n",
    "                max_length = len(cell.value)\n",
    "        except:\n",
    "            pas\n",
    "    count += 1\n",
    "    adjusted_width = (max_length + 2) * 8\n",
    "    sheet.column_dimensions[column_letter].width = adjusted_width\n",
    "workbook.save(\"file_example_XLSX_50-Copy1.xlsx\")"
   ]
  },
  {
   "cell_type": "code",
   "execution_count": null,
   "id": "885ae335-8b77-49a2-9a6d-ed5a7933b3e2",
   "metadata": {},
   "outputs": [],
   "source": []
  }
 ],
 "metadata": {
  "kernelspec": {
   "display_name": "venv",
   "language": "python",
   "name": "venv"
  },
  "language_info": {
   "codemirror_mode": {
    "name": "ipython",
    "version": 3
   },
   "file_extension": ".py",
   "mimetype": "text/x-python",
   "name": "python",
   "nbconvert_exporter": "python",
   "pygments_lexer": "ipython3",
   "version": "3.10.12"
  }
 },
 "nbformat": 4,
 "nbformat_minor": 5
}
